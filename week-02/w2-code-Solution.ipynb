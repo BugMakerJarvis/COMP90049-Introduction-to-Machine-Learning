{
 "cells": [
  {
   "cell_type": "markdown",
   "metadata": {},
   "source": [
    "### The University of Melbourne, School of Computing and Information Systems\n",
    "# COMP90049 Introduction Machine Learning, 2023 Semester 1\n",
    "\n",
    "## Week 2 - Solution "
   ]
  },
  {
   "cell_type": "markdown",
   "metadata": {},
   "source": [
    "## Cells\n",
    "Jupyter notebooks contains two main types of cells:\n",
    "- Markdown cells: These can be used to contain text, equations and other non-code items.  The cell that you're reading right now is a markdown cell.  You can use [Markdown](https://www.markdownguide.org/) to format your text.  If you prefer, you can also format your text using <b>HTML</b>.  Clicking the <button class='btn btn-default btn-xs'><i class=\"fa-play fa\"></i><span class=\"toolbar-btn-label\">Run</span></button> button button will format and display your text.\n",
    "- Code cells: These contain code segments that can be executed individually.  When executed, the output of the code will be displayed below the code cell.\n",
    "\n",
    "## Keyboard Shortcuts\n",
    "Cell Running shortcuts:\n",
    "- _You can tell you are selecting a cell when the outline is colored is green_\n",
    "- `shift + enter` : Run current cell - keyboard shortcut for the <button class='btn btn-default btn-xs'><i class=\"fa-play fa\"></i><span class=\"toolbar-btn-label\">Run</span></button> button\n",
    "- `ctrl + enter` : Run selected cells\n",
    "\n",
    "Command mode (press `esc` to enter):\n",
    "- - _You can tell you are in Command Mode when the outline is colored is blue_\n",
    "- Enter command mode pressing `esc` (blue highlight)\n",
    "- `a` to create a cell **above**\n",
    "- `b` to create a cell **below**\n",
    "- `dd` (double d) to **delete** a cell\n",
    "- `m` to make the cell render in **markdown**\n",
    "- `r` to make the cell render in **raw** text\n",
    "- `y` to make the cell render python code\n",
    "- `enter` to \"edit\" the cell\n",
    "\n",
    "Code Shortcuts:\n",
    "- `shift + tab` : brings function/method arguments up"
   ]
  },
  {
   "cell_type": "markdown",
   "metadata": {},
   "source": [
    "# Pandas\n",
    "Depending on the use case, data come in various shapes and structures. One of the most common forms is *tabular data*, or data tables (think Excel spreadsheets or SQL tables). It's both human-readable and machine-readable, and it's easy to *vectorize* any transformation to our data. Here's a visualisation of what a DataFrame looks like:\n",
    "![Dataframe](images/dataframe.jpg)\n",
    "\n",
    "To work with tabular data in Python, we use the library `pandas`. We **strongly recommend** you bookmark the [API reference (Documentation)](https://pandas.pydata.org/pandas-docs/stable/reference/index.html) which will serve as a bible for this subject."
   ]
  },
  {
   "cell_type": "markdown",
   "metadata": {},
   "source": [
    "## Installing Packages\n",
    "***If you are running this on the Ed Forum or via Anaconda (Python), you won't need to do this.***\n",
    "\n",
    "Depending on the installation of Jupyter Notebook and your OS (Operating System), you may need to *install* the `pandas` package. To do so, run the command that matches your system:\n",
    "```python\n",
    "# for Windows with only Python installed\n",
    "pip install pandas\n",
    "\n",
    "# for Mac or Linux with Python3 installed\n",
    "pip3 install pandas\n",
    "```"
   ]
  },
  {
   "cell_type": "code",
   "execution_count": 1,
   "metadata": {},
   "outputs": [],
   "source": [
    "import pandas as pd"
   ]
  },
  {
   "cell_type": "markdown",
   "metadata": {},
   "source": [
    "## <u>Concept: Series</u>\n",
    "A Series is a One-dimensional array-like object containing the array of data and an associated array of data labels called index. It's best to think of Series as a single column in Excel, or a vertical `list`-like object. Here's a visual example of what it looks like:\n",
    "\n",
    "![Dataframe](images/series.jpg)"
   ]
  },
  {
   "cell_type": "markdown",
   "metadata": {},
   "source": [
    "### Creating a Pandas Series"
   ]
  },
  {
   "cell_type": "code",
   "execution_count": 2,
   "metadata": {},
   "outputs": [],
   "source": [
    "# define a list of values\n",
    "sales_list = [107512, 103208, 99388, 103838, 104631]\n",
    "\n",
    "# create a Pandas series\n",
    "sales_series = pd.Series(sales_list)"
   ]
  },
  {
   "cell_type": "code",
   "execution_count": 3,
   "metadata": {},
   "outputs": [
    {
     "data": {
      "text/plain": "0    107512\n1    103208\n2     99388\n3    103838\n4    104631\ndtype: int64"
     },
     "execution_count": 3,
     "metadata": {},
     "output_type": "execute_result"
    }
   ],
   "source": [
    "# notice how we can just \"display\" the variable without printing it\n",
    "sales_series"
   ]
  },
  {
   "cell_type": "markdown",
   "metadata": {},
   "source": [
    "### <u>Concept: Attributes and Methods of a Python object</u>\n",
    "The Pandas `series` also comes with useful attributes in methods. To be specific:  \n",
    "1. Attributes are static variables that are stored when the object is created.\n",
    "2. Methods are functions that a pre-defined with that object.\n",
    "\n",
    "Examples of `series` attributes:\n",
    "- `series.index` attribute (returns the index field like `dict.keys()`)\n",
    "- `series.values` attribute (returns the values like `dict.values()`)\n",
    "\n",
    "Examples of `series` methods:\n",
    "- `series.mean()` method (computes the average)\n",
    "- `series.sum()` method (computes the grand total sum)\n",
    "\n",
    "To get all the attributes and methods available, you can call `help(pd.Series)`. \n",
    "\n",
    "\n",
    "There are a lot of functions, methods and attributes in the `pandas` library, so we won't be covering all of them in this subject. We encourage students to look up the [API Documentation](https://pandas.pydata.org/pandas-docs/stable/reference/api/pandas.Series.html) if you wish to use something outside the scope of this subject.\n",
    "\n"
   ]
  },
  {
   "cell_type": "code",
   "execution_count": 4,
   "metadata": {},
   "outputs": [
    {
     "name": "stdout",
     "output_type": "stream",
     "text": [
      "RangeIndex(start=0, stop=5, step=1)\n",
      "[107512 103208  99388 103838 104631]\n"
     ]
    }
   ],
   "source": [
    "# The default indexing starts from zero\n",
    "print(sales_series.index)\n",
    "\n",
    "# Retrieve the values of the series\n",
    "print(sales_series.values)"
   ]
  },
  {
   "cell_type": "code",
   "execution_count": 5,
   "metadata": {},
   "outputs": [
    {
     "name": "stdout",
     "output_type": "stream",
     "text": [
      "The Kissing Booth                    107512\n",
      "Between Worlds                       103208\n",
      "Sicario: Day of the Soldado           99388\n",
      "Spider-Man: Into the Spider-Verse    103838\n",
      "Ant-Man and the Wasp                 104631\n",
      "dtype: int64\n"
     ]
    }
   ],
   "source": [
    "# Create your own index using lists\n",
    "# Indexes don't have to be integers!\n",
    "new_index = ['The Kissing Booth', \n",
    "            'Between Worlds', \n",
    "            'Sicario: Day of the Soldado', \n",
    "            'Spider-Man: Into the Spider-Verse', \n",
    "            'Ant-Man and the Wasp']\n",
    "\n",
    "sales_series.index  = new_index\n",
    "\n",
    "# Verify the index has been changed\n",
    "print(sales_series)"
   ]
  },
  {
   "cell_type": "markdown",
   "metadata": {},
   "source": [
    "Like dictionaries, we can access values using `[]`"
   ]
  },
  {
   "cell_type": "code",
   "execution_count": 6,
   "metadata": {},
   "outputs": [
    {
     "name": "stdout",
     "output_type": "stream",
     "text": [
      "104631\n"
     ]
    }
   ],
   "source": [
    "# Access the sales values based on index\n",
    "print(sales_series['Ant-Man and the Wasp'])"
   ]
  },
  {
   "cell_type": "code",
   "execution_count": 7,
   "metadata": {},
   "outputs": [
    {
     "name": "stdout",
     "output_type": "stream",
     "text": [
      "Dragon Ball Super: Origin of the Saiyans    105982\n",
      "Animal World                                108293\n",
      "Avengers: Infinity War                      112178\n",
      "A Quiet Place                               103813\n",
      "Bumblebee                                   106562\n",
      "dtype: int64\n"
     ]
    }
   ],
   "source": [
    "# Create a series from a python dict\n",
    "sales_dict = {'Dragon Ball Super: Origin of the Saiyans': 105982,\n",
    "              'Animal World': 108293,\n",
    "              'Avengers: Infinity War': 112178,\n",
    "              'A Quiet Place': 103813,\n",
    "              'Bumblebee': 106562}\n",
    "\n",
    "sales_series_dict = pd.Series(sales_dict)\n",
    "print(sales_series_dict)"
   ]
  },
  {
   "cell_type": "markdown",
   "metadata": {},
   "source": [
    "If we want to concatenate two series together, we can use `pd.concat([LIST OF SERIES], axis='rows')`."
   ]
  },
  {
   "cell_type": "code",
   "execution_count": 8,
   "metadata": {},
   "outputs": [
    {
     "name": "stdout",
     "output_type": "stream",
     "text": [
      "The Kissing Booth                           107512\n",
      "Between Worlds                              103208\n",
      "Sicario: Day of the Soldado                  99388\n",
      "Spider-Man: Into the Spider-Verse           103838\n",
      "Ant-Man and the Wasp                        104631\n",
      "Dragon Ball Super: Origin of the Saiyans    105982\n",
      "Animal World                                108293\n",
      "Avengers: Infinity War                      112178\n",
      "A Quiet Place                               103813\n",
      "Bumblebee                                   106562\n",
      "dtype: int64\n"
     ]
    }
   ],
   "source": [
    "# Vertically concatenate two series\n",
    "sales_series = pd.concat([sales_series, sales_series_dict], axis='rows')\n",
    "print(sales_series)"
   ]
  },
  {
   "cell_type": "markdown",
   "metadata": {},
   "source": [
    "<blockquote style=\"padding: 10px; background-color: #ebf5fb;\">\n",
    "\n",
    "## Class Discussion Question  \n",
    "Is `pd.concat` a method or attribute?"
   ]
  },
  {
   "cell_type": "markdown",
   "metadata": {},
   "source": [
    "<blockquote style=\"padding: 10px; background-color: lightgreen;\">\n",
    "\n",
    "## Rough Discussion Guide\n",
    "Because `concat` takes arguments, it is a method. There are also methods which take zero arguments, you can usually tell these by the use of brackets `()`."
   ]
  },
  {
   "cell_type": "markdown",
   "metadata": {},
   "source": [
    "Here are some operations that we can do (such as filtering the data).\n",
    "- Here, we use `.loc` to *locate* the values that fulfill the conditions. \n",
    "- `.iloc` can also be used which *locates* the *indicies* that correspond to the slice provided"
   ]
  },
  {
   "cell_type": "code",
   "execution_count": 9,
   "metadata": {},
   "outputs": [
    {
     "data": {
      "text/plain": "104631"
     },
     "execution_count": 9,
     "metadata": {},
     "output_type": "execute_result"
    }
   ],
   "source": [
    "# Slicing the series using index\n",
    "sales_series.loc['Ant-Man and the Wasp']"
   ]
  },
  {
   "cell_type": "code",
   "execution_count": 10,
   "metadata": {},
   "outputs": [
    {
     "data": {
      "text/plain": "104631"
     },
     "execution_count": 10,
     "metadata": {},
     "output_type": "execute_result"
    }
   ],
   "source": [
    "# This is an alternative syntax\n",
    "sales_series['Ant-Man and the Wasp']"
   ]
  },
  {
   "cell_type": "code",
   "execution_count": 11,
   "metadata": {},
   "outputs": [
    {
     "data": {
      "text/plain": "Sicario: Day of the Soldado    99388\ndtype: int64"
     },
     "execution_count": 11,
     "metadata": {},
     "output_type": "execute_result"
    }
   ],
   "source": [
    "# Slicing the series using a boolean array operation \n",
    "sales_series.loc[sales_series < 100000]"
   ]
  },
  {
   "cell_type": "code",
   "execution_count": 12,
   "metadata": {},
   "outputs": [
    {
     "data": {
      "text/plain": "The Kissing Booth                    107512\nBetween Worlds                       103208\nSicario: Day of the Soldado           99388\nSpider-Man: Into the Spider-Verse    103838\nAnt-Man and the Wasp                 104631\ndtype: int64"
     },
     "execution_count": 12,
     "metadata": {},
     "output_type": "execute_result"
    }
   ],
   "source": [
    "# Slicing the series using iloc\n",
    "sales_series.iloc[0:5]"
   ]
  },
  {
   "cell_type": "code",
   "execution_count": 13,
   "metadata": {},
   "outputs": [
    {
     "data": {
      "text/plain": "The Kissing Booth                           215024\nBetween Worlds                              206416\nSicario: Day of the Soldado                 198776\nSpider-Man: Into the Spider-Verse           207676\nAnt-Man and the Wasp                        209262\nDragon Ball Super: Origin of the Saiyans    211964\nAnimal World                                216586\nAvengers: Infinity War                      224356\nA Quiet Place                               207626\nBumblebee                                   213124\ndtype: int64"
     },
     "execution_count": 13,
     "metadata": {},
     "output_type": "execute_result"
    }
   ],
   "source": [
    "# Doubling the values of the series object\n",
    "doubled = sales_series * 2\n",
    "doubled"
   ]
  },
  {
   "cell_type": "code",
   "execution_count": 14,
   "metadata": {},
   "outputs": [
    {
     "data": {
      "text/plain": "105540.5"
     },
     "execution_count": 14,
     "metadata": {},
     "output_type": "execute_result"
    }
   ],
   "source": [
    "# Finding the average value of the series\n",
    "sales_series.mean()"
   ]
  },
  {
   "cell_type": "code",
   "execution_count": 15,
   "metadata": {},
   "outputs": [
    {
     "name": "stdout",
     "output_type": "stream",
     "text": [
      "Movie Name\n",
      "The Kissing Booth                           107512\n",
      "Between Worlds                              103208\n",
      "Sicario: Day of the Soldado                  99388\n",
      "Spider-Man: Into the Spider-Verse           103838\n",
      "Ant-Man and the Wasp                        104631\n",
      "Dragon Ball Super: Origin of the Saiyans    105982\n",
      "Animal World                                108293\n",
      "Avengers: Infinity War                      112178\n",
      "A Quiet Place                               103813\n",
      "Bumblebee                                   106562\n",
      "Name: Total tickets sold, dtype: int64\n"
     ]
    }
   ],
   "source": [
    "# Defining the column name\n",
    "sales_series.name = 'Total tickets sold'\n",
    "# Defining the name of the index\n",
    "sales_series.index.name = 'Movie Name'\n",
    "\n",
    "print(sales_series)"
   ]
  },
  {
   "cell_type": "markdown",
   "metadata": {},
   "source": [
    "<blockquote style=\"padding: 10px; background-color: #FFD392;\">\n",
    "\n",
    "## Exercise\n",
    "1. 1. Find all movies that sold more than 100,000 but under 105,000 movie tickets.  \n",
    "_Hint: You may want to use `.loc[]` for this._  \n",
    "\n",
    "\n",
    "2. Find the grand total number of movie tickets sold."
   ]
  },
  {
   "cell_type": "code",
   "execution_count": 16,
   "metadata": {},
   "outputs": [
    {
     "data": {
      "text/plain": "Movie Name\nBetween Worlds                       103208\nSpider-Man: Into the Spider-Verse    103838\nAnt-Man and the Wasp                 104631\nA Quiet Place                        103813\nName: Total tickets sold, dtype: int64"
     },
     "execution_count": 16,
     "metadata": {},
     "output_type": "execute_result"
    }
   ],
   "source": [
    "### ANSWER 1 HERE\n",
    "sales_series.loc[(sales_series > 100000) & (sales_series < 105000)]"
   ]
  },
  {
   "cell_type": "code",
   "execution_count": 17,
   "metadata": {},
   "outputs": [
    {
     "data": {
      "text/plain": "1055405"
     },
     "execution_count": 17,
     "metadata": {},
     "output_type": "execute_result"
    }
   ],
   "source": [
    "### ANSWER 2 HERE\n",
    "sales_series.sum()"
   ]
  },
  {
   "cell_type": "markdown",
   "metadata": {},
   "source": [
    "## <u>Concept: Dataframe</u>\n",
    "A DataFrame has both row and column indices like a `series` and contains many useful methods to aid your analysis. \n",
    "- [API reference](https://pandas.pydata.org/pandas-docs/stable/reference/index.html) details all of the functionality provided by `pandas`.  \n",
    "- You will particularly need consult the [DataFrame](https://pandas.pydata.org/pandas-docs/stable/reference/frame.html) reference page.\n",
    "\n",
    "\n",
    "Here's a visualisation of what a DataFrame looks like:\n",
    "![Dataframe](images/dataframe.jpg)"
   ]
  },
  {
   "cell_type": "markdown",
   "metadata": {},
   "source": [
    "### Working with Pandas Dataframe"
   ]
  },
  {
   "cell_type": "code",
   "execution_count": 18,
   "metadata": {},
   "outputs": [],
   "source": [
    "tickets_sold_dict =  {'The Kissing Booth': 107512,\n",
    "                        'Between Worlds': 103208,\n",
    "                        'Sicario: Day of the Soldado': 99388,\n",
    "                        'Spider-Man: Into the Spider-Verse': 103838,\n",
    "                        'Ant-Man and the Wasp': 104631, \n",
    "                        'Dragon Ball Super: Origin of the Saiyans': 105982,\n",
    "                        'Animal World': 108293,\n",
    "                        'Avengers: Infinity War': 112178,\n",
    "                        'A Quiet Place': 103813,\n",
    "                        'Bumblebee': 106562}\n",
    "\n",
    "tickets_sold = pd.Series(tickets_sold_dict)"
   ]
  },
  {
   "cell_type": "code",
   "execution_count": 19,
   "metadata": {},
   "outputs": [],
   "source": [
    "max_capacity_dict = {'A Quiet Place': 427725,\n",
    "                      'Animal World': 427300,\n",
    "                      'Ant-Man and the Wasp': 429350,\n",
    "                      'Avengers: Infinity War': 424325,\n",
    "                      'Between Worlds': 423375,\n",
    "                      'Bumblebee': 427950,\n",
    "                      'Dragon Ball Super: Origin of the Saiyans': 423225,\n",
    "                      'Sicario: Day of the Soldado': 427950,\n",
    "                      'Spider-Man: Into the Spider-Verse': 428375,\n",
    "                      'The Kissing Booth': 418750}\n",
    "\n",
    "max_capacity = pd.Series(max_capacity_dict)"
   ]
  },
  {
   "cell_type": "code",
   "execution_count": 20,
   "metadata": {},
   "outputs": [
    {
     "data": {
      "text/plain": "                                          tickets_sold  max_capacity\nA Quiet Place                                   103813        427725\nAnimal World                                    108293        427300\nAnt-Man and the Wasp                            104631        429350\nAvengers: Infinity War                          112178        424325\nBetween Worlds                                  103208        423375\nBumblebee                                       106562        427950\nDragon Ball Super: Origin of the Saiyans        105982        423225\nSicario: Day of the Soldado                      99388        427950\nSpider-Man: Into the Spider-Verse               103838        428375\nThe Kissing Booth                               107512        418750",
      "text/html": "<div>\n<style scoped>\n    .dataframe tbody tr th:only-of-type {\n        vertical-align: middle;\n    }\n\n    .dataframe tbody tr th {\n        vertical-align: top;\n    }\n\n    .dataframe thead th {\n        text-align: right;\n    }\n</style>\n<table border=\"1\" class=\"dataframe\">\n  <thead>\n    <tr style=\"text-align: right;\">\n      <th></th>\n      <th>tickets_sold</th>\n      <th>max_capacity</th>\n    </tr>\n  </thead>\n  <tbody>\n    <tr>\n      <th>A Quiet Place</th>\n      <td>103813</td>\n      <td>427725</td>\n    </tr>\n    <tr>\n      <th>Animal World</th>\n      <td>108293</td>\n      <td>427300</td>\n    </tr>\n    <tr>\n      <th>Ant-Man and the Wasp</th>\n      <td>104631</td>\n      <td>429350</td>\n    </tr>\n    <tr>\n      <th>Avengers: Infinity War</th>\n      <td>112178</td>\n      <td>424325</td>\n    </tr>\n    <tr>\n      <th>Between Worlds</th>\n      <td>103208</td>\n      <td>423375</td>\n    </tr>\n    <tr>\n      <th>Bumblebee</th>\n      <td>106562</td>\n      <td>427950</td>\n    </tr>\n    <tr>\n      <th>Dragon Ball Super: Origin of the Saiyans</th>\n      <td>105982</td>\n      <td>423225</td>\n    </tr>\n    <tr>\n      <th>Sicario: Day of the Soldado</th>\n      <td>99388</td>\n      <td>427950</td>\n    </tr>\n    <tr>\n      <th>Spider-Man: Into the Spider-Verse</th>\n      <td>103838</td>\n      <td>428375</td>\n    </tr>\n    <tr>\n      <th>The Kissing Booth</th>\n      <td>107512</td>\n      <td>418750</td>\n    </tr>\n  </tbody>\n</table>\n</div>"
     },
     "execution_count": 20,
     "metadata": {},
     "output_type": "execute_result"
    }
   ],
   "source": [
    "# create a DataFrame object from the series objects\n",
    "sales_df = pd.DataFrame({'tickets_sold': tickets_sold, \n",
    "                         'max_capacity': max_capacity})\n",
    "sales_df"
   ]
  },
  {
   "cell_type": "markdown",
   "metadata": {},
   "source": [
    "As you can see, a DataFrame is essentially made up of several `series` (i.e columns or features)."
   ]
  },
  {
   "cell_type": "code",
   "execution_count": 21,
   "metadata": {},
   "outputs": [
    {
     "data": {
      "text/plain": "A Quiet Place                               103813\nAnimal World                                108293\nAnt-Man and the Wasp                        104631\nAvengers: Infinity War                      112178\nBetween Worlds                              103208\nBumblebee                                   106562\nDragon Ball Super: Origin of the Saiyans    105982\nSicario: Day of the Soldado                  99388\nSpider-Man: Into the Spider-Verse           103838\nThe Kissing Booth                           107512\nName: tickets_sold, dtype: int64"
     },
     "execution_count": 21,
     "metadata": {},
     "output_type": "execute_result"
    }
   ],
   "source": [
    "# access a specific column (like dict[key])\n",
    "sales_df['tickets_sold']"
   ]
  },
  {
   "cell_type": "code",
   "execution_count": 22,
   "metadata": {},
   "outputs": [
    {
     "data": {
      "text/plain": "                                          max_capacity  tickets_sold\nA Quiet Place                                   427725        103813\nAnimal World                                    427300        108293\nAnt-Man and the Wasp                            429350        104631\nAvengers: Infinity War                          424325        112178\nBetween Worlds                                  423375        103208\nBumblebee                                       427950        106562\nDragon Ball Super: Origin of the Saiyans        423225        105982\nSicario: Day of the Soldado                     427950         99388\nSpider-Man: Into the Spider-Verse               428375        103838\nThe Kissing Booth                               418750        107512",
      "text/html": "<div>\n<style scoped>\n    .dataframe tbody tr th:only-of-type {\n        vertical-align: middle;\n    }\n\n    .dataframe tbody tr th {\n        vertical-align: top;\n    }\n\n    .dataframe thead th {\n        text-align: right;\n    }\n</style>\n<table border=\"1\" class=\"dataframe\">\n  <thead>\n    <tr style=\"text-align: right;\">\n      <th></th>\n      <th>max_capacity</th>\n      <th>tickets_sold</th>\n    </tr>\n  </thead>\n  <tbody>\n    <tr>\n      <th>A Quiet Place</th>\n      <td>427725</td>\n      <td>103813</td>\n    </tr>\n    <tr>\n      <th>Animal World</th>\n      <td>427300</td>\n      <td>108293</td>\n    </tr>\n    <tr>\n      <th>Ant-Man and the Wasp</th>\n      <td>429350</td>\n      <td>104631</td>\n    </tr>\n    <tr>\n      <th>Avengers: Infinity War</th>\n      <td>424325</td>\n      <td>112178</td>\n    </tr>\n    <tr>\n      <th>Between Worlds</th>\n      <td>423375</td>\n      <td>103208</td>\n    </tr>\n    <tr>\n      <th>Bumblebee</th>\n      <td>427950</td>\n      <td>106562</td>\n    </tr>\n    <tr>\n      <th>Dragon Ball Super: Origin of the Saiyans</th>\n      <td>423225</td>\n      <td>105982</td>\n    </tr>\n    <tr>\n      <th>Sicario: Day of the Soldado</th>\n      <td>427950</td>\n      <td>99388</td>\n    </tr>\n    <tr>\n      <th>Spider-Man: Into the Spider-Verse</th>\n      <td>428375</td>\n      <td>103838</td>\n    </tr>\n    <tr>\n      <th>The Kissing Booth</th>\n      <td>418750</td>\n      <td>107512</td>\n    </tr>\n  </tbody>\n</table>\n</div>"
     },
     "execution_count": 22,
     "metadata": {},
     "output_type": "execute_result"
    }
   ],
   "source": [
    "# access multiple column (note the order)\n",
    "sales_df[['max_capacity', 'tickets_sold']]"
   ]
  },
  {
   "cell_type": "code",
   "execution_count": 23,
   "metadata": {},
   "outputs": [
    {
     "data": {
      "text/plain": "                             tickets_sold  max_capacity\nSicario: Day of the Soldado         99388        427950",
      "text/html": "<div>\n<style scoped>\n    .dataframe tbody tr th:only-of-type {\n        vertical-align: middle;\n    }\n\n    .dataframe tbody tr th {\n        vertical-align: top;\n    }\n\n    .dataframe thead th {\n        text-align: right;\n    }\n</style>\n<table border=\"1\" class=\"dataframe\">\n  <thead>\n    <tr style=\"text-align: right;\">\n      <th></th>\n      <th>tickets_sold</th>\n      <th>max_capacity</th>\n    </tr>\n  </thead>\n  <tbody>\n    <tr>\n      <th>Sicario: Day of the Soldado</th>\n      <td>99388</td>\n      <td>427950</td>\n    </tr>\n  </tbody>\n</table>\n</div>"
     },
     "execution_count": 23,
     "metadata": {},
     "output_type": "execute_result"
    }
   ],
   "source": [
    "# find movies which did not sell 100k tickets\n",
    "sales_df.loc[sales_df['tickets_sold'] < 100000]"
   ]
  },
  {
   "cell_type": "markdown",
   "metadata": {},
   "source": [
    "<blockquote style=\"padding: 10px; background-color: #ebf5fb;\">\n",
    "\n",
    "## Class Discussion Question  \n",
    "What do you notice about the order of the movies?"
   ]
  },
  {
   "cell_type": "markdown",
   "metadata": {},
   "source": [
    "<blockquote style=\"padding: 10px; background-color: lightgreen;\">\n",
    "\n",
    "## Rough Discussion Guide\n",
    "They are sorted despite the ordering in one of the dataframes not aligning. We can see that `tickets_sold` and `max_capacity_dict` maintain the order in their respective original dictionary, but when combined into a single dataframe, the order cannot remain the same. As a result, when creating the DataFrame, pandas will construct a sorted index to merge the two into a single dataframe."
   ]
  },
  {
   "cell_type": "markdown",
   "metadata": {},
   "source": [
    "## Reading and saving CSV's using Pandas\n",
    "Here, we will use the `df.head()` method which displays the first 5 rows by default. Correspondingly, the `df.tail()` method displays the last 5 rows by default."
   ]
  },
  {
   "cell_type": "code",
   "execution_count": 24,
   "metadata": {},
   "outputs": [
    {
     "data": {
      "text/plain": "               movie_name classification  tickets_sold  max_capacity\n0           A Quiet Place              M        103813        427725\n1                   Alpha             PG        103596        422525\n2   An Interview with God             PG        104182        426575\n3            Animal World              G        108293        427300\n4    Ant-Man and the Wasp             PG        104631        429350\n5                 Aquaman              M        102655        423100\n6  Avengers: Infinity War              M        112178        424325\n7                   A-X-L             PG         99339        423200\n8          Between Worlds          MA15+        103208        423375\n9           Black Panther              M        108831        423375",
      "text/html": "<div>\n<style scoped>\n    .dataframe tbody tr th:only-of-type {\n        vertical-align: middle;\n    }\n\n    .dataframe tbody tr th {\n        vertical-align: top;\n    }\n\n    .dataframe thead th {\n        text-align: right;\n    }\n</style>\n<table border=\"1\" class=\"dataframe\">\n  <thead>\n    <tr style=\"text-align: right;\">\n      <th></th>\n      <th>movie_name</th>\n      <th>classification</th>\n      <th>tickets_sold</th>\n      <th>max_capacity</th>\n    </tr>\n  </thead>\n  <tbody>\n    <tr>\n      <th>0</th>\n      <td>A Quiet Place</td>\n      <td>M</td>\n      <td>103813</td>\n      <td>427725</td>\n    </tr>\n    <tr>\n      <th>1</th>\n      <td>Alpha</td>\n      <td>PG</td>\n      <td>103596</td>\n      <td>422525</td>\n    </tr>\n    <tr>\n      <th>2</th>\n      <td>An Interview with God</td>\n      <td>PG</td>\n      <td>104182</td>\n      <td>426575</td>\n    </tr>\n    <tr>\n      <th>3</th>\n      <td>Animal World</td>\n      <td>G</td>\n      <td>108293</td>\n      <td>427300</td>\n    </tr>\n    <tr>\n      <th>4</th>\n      <td>Ant-Man and the Wasp</td>\n      <td>PG</td>\n      <td>104631</td>\n      <td>429350</td>\n    </tr>\n    <tr>\n      <th>5</th>\n      <td>Aquaman</td>\n      <td>M</td>\n      <td>102655</td>\n      <td>423100</td>\n    </tr>\n    <tr>\n      <th>6</th>\n      <td>Avengers: Infinity War</td>\n      <td>M</td>\n      <td>112178</td>\n      <td>424325</td>\n    </tr>\n    <tr>\n      <th>7</th>\n      <td>A-X-L</td>\n      <td>PG</td>\n      <td>99339</td>\n      <td>423200</td>\n    </tr>\n    <tr>\n      <th>8</th>\n      <td>Between Worlds</td>\n      <td>MA15+</td>\n      <td>103208</td>\n      <td>423375</td>\n    </tr>\n    <tr>\n      <th>9</th>\n      <td>Black Panther</td>\n      <td>M</td>\n      <td>108831</td>\n      <td>423375</td>\n    </tr>\n  </tbody>\n</table>\n</div>"
     },
     "execution_count": 24,
     "metadata": {},
     "output_type": "execute_result"
    }
   ],
   "source": [
    "# create a DataFrame from a csv file\n",
    "total_sales = pd.read_csv('booking_summary.csv')\n",
    "total_sales.head(10)"
   ]
  },
  {
   "cell_type": "code",
   "execution_count": 25,
   "metadata": {},
   "outputs": [
    {
     "data": {
      "text/plain": "   Unnamed: 0                         movie_name classification  tickets_sold  \\\n0          20          Ralph Breaks the Internet             PG        103909   \n1          21                            Rampage              M        102746   \n2          22                            Siberia              G        107617   \n3          23        Sicario: Day of the Soldado          MA15+         99388   \n4          24  Spider-Man: Into the Spider-Verse             PG        103838   \n5          25                  The Darkest Minds              M        101663   \n6          26                  The Kissing Booth              M        107512   \n7          27                            The Meg              M        108652   \n8          28                       The Predator          MA15+        104824   \n9          29                              Venom              M        110053   \n\n   max_capacity  \n0        425500  \n1        420575  \n2        423925  \n3        427950  \n4        428375  \n5        432075  \n6        418750  \n7        422375  \n8        424350  \n9        424200  ",
      "text/html": "<div>\n<style scoped>\n    .dataframe tbody tr th:only-of-type {\n        vertical-align: middle;\n    }\n\n    .dataframe tbody tr th {\n        vertical-align: top;\n    }\n\n    .dataframe thead th {\n        text-align: right;\n    }\n</style>\n<table border=\"1\" class=\"dataframe\">\n  <thead>\n    <tr style=\"text-align: right;\">\n      <th></th>\n      <th>Unnamed: 0</th>\n      <th>movie_name</th>\n      <th>classification</th>\n      <th>tickets_sold</th>\n      <th>max_capacity</th>\n    </tr>\n  </thead>\n  <tbody>\n    <tr>\n      <th>0</th>\n      <td>20</td>\n      <td>Ralph Breaks the Internet</td>\n      <td>PG</td>\n      <td>103909</td>\n      <td>425500</td>\n    </tr>\n    <tr>\n      <th>1</th>\n      <td>21</td>\n      <td>Rampage</td>\n      <td>M</td>\n      <td>102746</td>\n      <td>420575</td>\n    </tr>\n    <tr>\n      <th>2</th>\n      <td>22</td>\n      <td>Siberia</td>\n      <td>G</td>\n      <td>107617</td>\n      <td>423925</td>\n    </tr>\n    <tr>\n      <th>3</th>\n      <td>23</td>\n      <td>Sicario: Day of the Soldado</td>\n      <td>MA15+</td>\n      <td>99388</td>\n      <td>427950</td>\n    </tr>\n    <tr>\n      <th>4</th>\n      <td>24</td>\n      <td>Spider-Man: Into the Spider-Verse</td>\n      <td>PG</td>\n      <td>103838</td>\n      <td>428375</td>\n    </tr>\n    <tr>\n      <th>5</th>\n      <td>25</td>\n      <td>The Darkest Minds</td>\n      <td>M</td>\n      <td>101663</td>\n      <td>432075</td>\n    </tr>\n    <tr>\n      <th>6</th>\n      <td>26</td>\n      <td>The Kissing Booth</td>\n      <td>M</td>\n      <td>107512</td>\n      <td>418750</td>\n    </tr>\n    <tr>\n      <th>7</th>\n      <td>27</td>\n      <td>The Meg</td>\n      <td>M</td>\n      <td>108652</td>\n      <td>422375</td>\n    </tr>\n    <tr>\n      <th>8</th>\n      <td>28</td>\n      <td>The Predator</td>\n      <td>MA15+</td>\n      <td>104824</td>\n      <td>424350</td>\n    </tr>\n    <tr>\n      <th>9</th>\n      <td>29</td>\n      <td>Venom</td>\n      <td>M</td>\n      <td>110053</td>\n      <td>424200</td>\n    </tr>\n  </tbody>\n</table>\n</div>"
     },
     "execution_count": 25,
     "metadata": {},
     "output_type": "execute_result"
    }
   ],
   "source": [
    "# save a DataFrame as a csv file\n",
    "last_ten = total_sales.tail(10)\n",
    "last_ten.to_csv('last_ten.csv')\n",
    "\n",
    "# Read it back in. \n",
    "pd.read_csv('last_ten.csv')"
   ]
  },
  {
   "cell_type": "markdown",
   "metadata": {},
   "source": [
    "Note how we have an `Unnamed: 0` column? That's the index column from when we exported the CSV. To ensure that Pandas do not need to save the index column, you can add the `index=False` to the `.to_csv()` method."
   ]
  },
  {
   "cell_type": "code",
   "execution_count": 26,
   "metadata": {},
   "outputs": [
    {
     "data": {
      "text/plain": "                          movie_name classification  tickets_sold  \\\n0          Ralph Breaks the Internet             PG        103909   \n1                            Rampage              M        102746   \n2                            Siberia              G        107617   \n3        Sicario: Day of the Soldado          MA15+         99388   \n4  Spider-Man: Into the Spider-Verse             PG        103838   \n5                  The Darkest Minds              M        101663   \n6                  The Kissing Booth              M        107512   \n7                            The Meg              M        108652   \n8                       The Predator          MA15+        104824   \n9                              Venom              M        110053   \n\n   max_capacity  \n0        425500  \n1        420575  \n2        423925  \n3        427950  \n4        428375  \n5        432075  \n6        418750  \n7        422375  \n8        424350  \n9        424200  ",
      "text/html": "<div>\n<style scoped>\n    .dataframe tbody tr th:only-of-type {\n        vertical-align: middle;\n    }\n\n    .dataframe tbody tr th {\n        vertical-align: top;\n    }\n\n    .dataframe thead th {\n        text-align: right;\n    }\n</style>\n<table border=\"1\" class=\"dataframe\">\n  <thead>\n    <tr style=\"text-align: right;\">\n      <th></th>\n      <th>movie_name</th>\n      <th>classification</th>\n      <th>tickets_sold</th>\n      <th>max_capacity</th>\n    </tr>\n  </thead>\n  <tbody>\n    <tr>\n      <th>0</th>\n      <td>Ralph Breaks the Internet</td>\n      <td>PG</td>\n      <td>103909</td>\n      <td>425500</td>\n    </tr>\n    <tr>\n      <th>1</th>\n      <td>Rampage</td>\n      <td>M</td>\n      <td>102746</td>\n      <td>420575</td>\n    </tr>\n    <tr>\n      <th>2</th>\n      <td>Siberia</td>\n      <td>G</td>\n      <td>107617</td>\n      <td>423925</td>\n    </tr>\n    <tr>\n      <th>3</th>\n      <td>Sicario: Day of the Soldado</td>\n      <td>MA15+</td>\n      <td>99388</td>\n      <td>427950</td>\n    </tr>\n    <tr>\n      <th>4</th>\n      <td>Spider-Man: Into the Spider-Verse</td>\n      <td>PG</td>\n      <td>103838</td>\n      <td>428375</td>\n    </tr>\n    <tr>\n      <th>5</th>\n      <td>The Darkest Minds</td>\n      <td>M</td>\n      <td>101663</td>\n      <td>432075</td>\n    </tr>\n    <tr>\n      <th>6</th>\n      <td>The Kissing Booth</td>\n      <td>M</td>\n      <td>107512</td>\n      <td>418750</td>\n    </tr>\n    <tr>\n      <th>7</th>\n      <td>The Meg</td>\n      <td>M</td>\n      <td>108652</td>\n      <td>422375</td>\n    </tr>\n    <tr>\n      <th>8</th>\n      <td>The Predator</td>\n      <td>MA15+</td>\n      <td>104824</td>\n      <td>424350</td>\n    </tr>\n    <tr>\n      <th>9</th>\n      <td>Venom</td>\n      <td>M</td>\n      <td>110053</td>\n      <td>424200</td>\n    </tr>\n  </tbody>\n</table>\n</div>"
     },
     "execution_count": 26,
     "metadata": {},
     "output_type": "execute_result"
    }
   ],
   "source": [
    "# save a DataFrame as a csv file\n",
    "last_ten = total_sales.tail(10)\n",
    "last_ten.to_csv('last_ten.csv', index=False)\n",
    "\n",
    "# Read it back in. \n",
    "pd.read_csv('last_ten.csv')"
   ]
  },
  {
   "cell_type": "markdown",
   "metadata": {},
   "source": [
    "<blockquote style=\"padding: 10px; background-color: #FFD392;\">\n",
    "\n",
    "## Exercise\n",
    "Count the number of movies in each classification. \n",
    "\n",
    "Hint: Try to search up _\"pandas count values in dataframe\"_"
   ]
  },
  {
   "cell_type": "code",
   "execution_count": 27,
   "metadata": {},
   "outputs": [
    {
     "data": {
      "text/plain": "M        15\nPG        8\nMA15+     5\nG         2\nName: classification, dtype: int64"
     },
     "execution_count": 27,
     "metadata": {},
     "output_type": "execute_result"
    }
   ],
   "source": [
    "### ANSWER HERE\n",
    "total_sales['classification'].value_counts()"
   ]
  },
  {
   "cell_type": "markdown",
   "metadata": {},
   "source": [
    "We will now set the `movie_name` as our index.\n",
    "\n",
    "**Follow-up Question: Why would we want to set the name of the movie as the index?**"
   ]
  },
  {
   "cell_type": "code",
   "execution_count": 28,
   "metadata": {},
   "outputs": [
    {
     "data": {
      "text/plain": "                                            classification  tickets_sold  \\\nmovie_name                                                                 \nA Quiet Place                                            M        103813   \nAlpha                                                   PG        103596   \nAn Interview with God                                   PG        104182   \nAnimal World                                             G        108293   \nAnt-Man and the Wasp                                    PG        104631   \nAquaman                                                  M        102655   \nAvengers: Infinity War                                   M        112178   \nA-X-L                                                   PG         99339   \nBetween Worlds                                       MA15+        103208   \nBlack Panther                                            M        108831   \nBumblebee                                                M        106562   \nCreed II                                                 M        101628   \nDeadpool 2                                           MA15+        106874   \nDragon Ball Super: Origin of the Saiyans                 M        105982   \nExtinction                                           MA15+        107638   \nFantastic Beasts: The Crimes of Grindelwald              M         98950   \nHotel Transylvania 3: Summer Vacation                   PG        103477   \nMaze Runner: The Death Cure                              M        104793   \nMy Hero Academia: Two Heroes                             M        102826   \nPeter Rabbit                                            PG        111164   \nRalph Breaks the Internet                               PG        103909   \nRampage                                                  M        102746   \nSiberia                                                  G        107617   \nSicario: Day of the Soldado                          MA15+         99388   \nSpider-Man: Into the Spider-Verse                       PG        103838   \nThe Darkest Minds                                        M        101663   \nThe Kissing Booth                                        M        107512   \nThe Meg                                                  M        108652   \nThe Predator                                         MA15+        104824   \nVenom                                                    M        110053   \n\n                                             max_capacity  \nmovie_name                                                 \nA Quiet Place                                      427725  \nAlpha                                              422525  \nAn Interview with God                              426575  \nAnimal World                                       427300  \nAnt-Man and the Wasp                               429350  \nAquaman                                            423100  \nAvengers: Infinity War                             424325  \nA-X-L                                              423200  \nBetween Worlds                                     423375  \nBlack Panther                                      423375  \nBumblebee                                          427950  \nCreed II                                           424375  \nDeadpool 2                                         422950  \nDragon Ball Super: Origin of the Saiyans           423225  \nExtinction                                         421975  \nFantastic Beasts: The Crimes of Grindelwald        426750  \nHotel Transylvania 3: Summer Vacation              430400  \nMaze Runner: The Death Cure                        422375  \nMy Hero Academia: Two Heroes                       432225  \nPeter Rabbit                                       429075  \nRalph Breaks the Internet                          425500  \nRampage                                            420575  \nSiberia                                            423925  \nSicario: Day of the Soldado                        427950  \nSpider-Man: Into the Spider-Verse                  428375  \nThe Darkest Minds                                  432075  \nThe Kissing Booth                                  418750  \nThe Meg                                            422375  \nThe Predator                                       424350  \nVenom                                              424200  ",
      "text/html": "<div>\n<style scoped>\n    .dataframe tbody tr th:only-of-type {\n        vertical-align: middle;\n    }\n\n    .dataframe tbody tr th {\n        vertical-align: top;\n    }\n\n    .dataframe thead th {\n        text-align: right;\n    }\n</style>\n<table border=\"1\" class=\"dataframe\">\n  <thead>\n    <tr style=\"text-align: right;\">\n      <th></th>\n      <th>classification</th>\n      <th>tickets_sold</th>\n      <th>max_capacity</th>\n    </tr>\n    <tr>\n      <th>movie_name</th>\n      <th></th>\n      <th></th>\n      <th></th>\n    </tr>\n  </thead>\n  <tbody>\n    <tr>\n      <th>A Quiet Place</th>\n      <td>M</td>\n      <td>103813</td>\n      <td>427725</td>\n    </tr>\n    <tr>\n      <th>Alpha</th>\n      <td>PG</td>\n      <td>103596</td>\n      <td>422525</td>\n    </tr>\n    <tr>\n      <th>An Interview with God</th>\n      <td>PG</td>\n      <td>104182</td>\n      <td>426575</td>\n    </tr>\n    <tr>\n      <th>Animal World</th>\n      <td>G</td>\n      <td>108293</td>\n      <td>427300</td>\n    </tr>\n    <tr>\n      <th>Ant-Man and the Wasp</th>\n      <td>PG</td>\n      <td>104631</td>\n      <td>429350</td>\n    </tr>\n    <tr>\n      <th>Aquaman</th>\n      <td>M</td>\n      <td>102655</td>\n      <td>423100</td>\n    </tr>\n    <tr>\n      <th>Avengers: Infinity War</th>\n      <td>M</td>\n      <td>112178</td>\n      <td>424325</td>\n    </tr>\n    <tr>\n      <th>A-X-L</th>\n      <td>PG</td>\n      <td>99339</td>\n      <td>423200</td>\n    </tr>\n    <tr>\n      <th>Between Worlds</th>\n      <td>MA15+</td>\n      <td>103208</td>\n      <td>423375</td>\n    </tr>\n    <tr>\n      <th>Black Panther</th>\n      <td>M</td>\n      <td>108831</td>\n      <td>423375</td>\n    </tr>\n    <tr>\n      <th>Bumblebee</th>\n      <td>M</td>\n      <td>106562</td>\n      <td>427950</td>\n    </tr>\n    <tr>\n      <th>Creed II</th>\n      <td>M</td>\n      <td>101628</td>\n      <td>424375</td>\n    </tr>\n    <tr>\n      <th>Deadpool 2</th>\n      <td>MA15+</td>\n      <td>106874</td>\n      <td>422950</td>\n    </tr>\n    <tr>\n      <th>Dragon Ball Super: Origin of the Saiyans</th>\n      <td>M</td>\n      <td>105982</td>\n      <td>423225</td>\n    </tr>\n    <tr>\n      <th>Extinction</th>\n      <td>MA15+</td>\n      <td>107638</td>\n      <td>421975</td>\n    </tr>\n    <tr>\n      <th>Fantastic Beasts: The Crimes of Grindelwald</th>\n      <td>M</td>\n      <td>98950</td>\n      <td>426750</td>\n    </tr>\n    <tr>\n      <th>Hotel Transylvania 3: Summer Vacation</th>\n      <td>PG</td>\n      <td>103477</td>\n      <td>430400</td>\n    </tr>\n    <tr>\n      <th>Maze Runner: The Death Cure</th>\n      <td>M</td>\n      <td>104793</td>\n      <td>422375</td>\n    </tr>\n    <tr>\n      <th>My Hero Academia: Two Heroes</th>\n      <td>M</td>\n      <td>102826</td>\n      <td>432225</td>\n    </tr>\n    <tr>\n      <th>Peter Rabbit</th>\n      <td>PG</td>\n      <td>111164</td>\n      <td>429075</td>\n    </tr>\n    <tr>\n      <th>Ralph Breaks the Internet</th>\n      <td>PG</td>\n      <td>103909</td>\n      <td>425500</td>\n    </tr>\n    <tr>\n      <th>Rampage</th>\n      <td>M</td>\n      <td>102746</td>\n      <td>420575</td>\n    </tr>\n    <tr>\n      <th>Siberia</th>\n      <td>G</td>\n      <td>107617</td>\n      <td>423925</td>\n    </tr>\n    <tr>\n      <th>Sicario: Day of the Soldado</th>\n      <td>MA15+</td>\n      <td>99388</td>\n      <td>427950</td>\n    </tr>\n    <tr>\n      <th>Spider-Man: Into the Spider-Verse</th>\n      <td>PG</td>\n      <td>103838</td>\n      <td>428375</td>\n    </tr>\n    <tr>\n      <th>The Darkest Minds</th>\n      <td>M</td>\n      <td>101663</td>\n      <td>432075</td>\n    </tr>\n    <tr>\n      <th>The Kissing Booth</th>\n      <td>M</td>\n      <td>107512</td>\n      <td>418750</td>\n    </tr>\n    <tr>\n      <th>The Meg</th>\n      <td>M</td>\n      <td>108652</td>\n      <td>422375</td>\n    </tr>\n    <tr>\n      <th>The Predator</th>\n      <td>MA15+</td>\n      <td>104824</td>\n      <td>424350</td>\n    </tr>\n    <tr>\n      <th>Venom</th>\n      <td>M</td>\n      <td>110053</td>\n      <td>424200</td>\n    </tr>\n  </tbody>\n</table>\n</div>"
     },
     "execution_count": 28,
     "metadata": {},
     "output_type": "execute_result"
    }
   ],
   "source": [
    "# set the name of movie as the index\n",
    "total_sales = total_sales.set_index('movie_name')\n",
    "total_sales"
   ]
  },
  {
   "cell_type": "markdown",
   "metadata": {},
   "source": [
    "<blockquote style=\"padding: 10px; background-color: #FFD392;\">\n",
    "\n",
    "## Exercise\n",
    "1. Calculate the occupancy rate for each movie. The occupancy rate is the number of tickets sold divided by the max capacity. Output this to a `'occupancy_rate'` column. Round the result to two decimal places using the `round()` function.\n",
    "\n",
    "2. Return only the `classification` and `'occupancy_rate'` of `'Ralph Breaks the Internet'` \n",
    "\n",
    "3. Get data row (known as an *instance*) of the movie with the highest occupancy rate. You may want to sort your values first using `df.sort_values(by=COLUMN)`\n",
    "\n",
    "4. Find the subset of movies that have a `PG` classification."
   ]
  },
  {
   "cell_type": "code",
   "execution_count": 29,
   "metadata": {},
   "outputs": [
    {
     "data": {
      "text/plain": "                                            classification  tickets_sold  \\\nmovie_name                                                                 \nA Quiet Place                                            M        103813   \nAlpha                                                   PG        103596   \nAn Interview with God                                   PG        104182   \nAnimal World                                             G        108293   \nAnt-Man and the Wasp                                    PG        104631   \nAquaman                                                  M        102655   \nAvengers: Infinity War                                   M        112178   \nA-X-L                                                   PG         99339   \nBetween Worlds                                       MA15+        103208   \nBlack Panther                                            M        108831   \nBumblebee                                                M        106562   \nCreed II                                                 M        101628   \nDeadpool 2                                           MA15+        106874   \nDragon Ball Super: Origin of the Saiyans                 M        105982   \nExtinction                                           MA15+        107638   \nFantastic Beasts: The Crimes of Grindelwald              M         98950   \nHotel Transylvania 3: Summer Vacation                   PG        103477   \nMaze Runner: The Death Cure                              M        104793   \nMy Hero Academia: Two Heroes                             M        102826   \nPeter Rabbit                                            PG        111164   \nRalph Breaks the Internet                               PG        103909   \nRampage                                                  M        102746   \nSiberia                                                  G        107617   \nSicario: Day of the Soldado                          MA15+         99388   \nSpider-Man: Into the Spider-Verse                       PG        103838   \nThe Darkest Minds                                        M        101663   \nThe Kissing Booth                                        M        107512   \nThe Meg                                                  M        108652   \nThe Predator                                         MA15+        104824   \nVenom                                                    M        110053   \n\n                                             max_capacity  occupancy_rate  \nmovie_name                                                                 \nA Quiet Place                                      427725            0.24  \nAlpha                                              422525            0.25  \nAn Interview with God                              426575            0.24  \nAnimal World                                       427300            0.25  \nAnt-Man and the Wasp                               429350            0.24  \nAquaman                                            423100            0.24  \nAvengers: Infinity War                             424325            0.26  \nA-X-L                                              423200            0.23  \nBetween Worlds                                     423375            0.24  \nBlack Panther                                      423375            0.26  \nBumblebee                                          427950            0.25  \nCreed II                                           424375            0.24  \nDeadpool 2                                         422950            0.25  \nDragon Ball Super: Origin of the Saiyans           423225            0.25  \nExtinction                                         421975            0.26  \nFantastic Beasts: The Crimes of Grindelwald        426750            0.23  \nHotel Transylvania 3: Summer Vacation              430400            0.24  \nMaze Runner: The Death Cure                        422375            0.25  \nMy Hero Academia: Two Heroes                       432225            0.24  \nPeter Rabbit                                       429075            0.26  \nRalph Breaks the Internet                          425500            0.24  \nRampage                                            420575            0.24  \nSiberia                                            423925            0.25  \nSicario: Day of the Soldado                        427950            0.23  \nSpider-Man: Into the Spider-Verse                  428375            0.24  \nThe Darkest Minds                                  432075            0.24  \nThe Kissing Booth                                  418750            0.26  \nThe Meg                                            422375            0.26  \nThe Predator                                       424350            0.25  \nVenom                                              424200            0.26  ",
      "text/html": "<div>\n<style scoped>\n    .dataframe tbody tr th:only-of-type {\n        vertical-align: middle;\n    }\n\n    .dataframe tbody tr th {\n        vertical-align: top;\n    }\n\n    .dataframe thead th {\n        text-align: right;\n    }\n</style>\n<table border=\"1\" class=\"dataframe\">\n  <thead>\n    <tr style=\"text-align: right;\">\n      <th></th>\n      <th>classification</th>\n      <th>tickets_sold</th>\n      <th>max_capacity</th>\n      <th>occupancy_rate</th>\n    </tr>\n    <tr>\n      <th>movie_name</th>\n      <th></th>\n      <th></th>\n      <th></th>\n      <th></th>\n    </tr>\n  </thead>\n  <tbody>\n    <tr>\n      <th>A Quiet Place</th>\n      <td>M</td>\n      <td>103813</td>\n      <td>427725</td>\n      <td>0.24</td>\n    </tr>\n    <tr>\n      <th>Alpha</th>\n      <td>PG</td>\n      <td>103596</td>\n      <td>422525</td>\n      <td>0.25</td>\n    </tr>\n    <tr>\n      <th>An Interview with God</th>\n      <td>PG</td>\n      <td>104182</td>\n      <td>426575</td>\n      <td>0.24</td>\n    </tr>\n    <tr>\n      <th>Animal World</th>\n      <td>G</td>\n      <td>108293</td>\n      <td>427300</td>\n      <td>0.25</td>\n    </tr>\n    <tr>\n      <th>Ant-Man and the Wasp</th>\n      <td>PG</td>\n      <td>104631</td>\n      <td>429350</td>\n      <td>0.24</td>\n    </tr>\n    <tr>\n      <th>Aquaman</th>\n      <td>M</td>\n      <td>102655</td>\n      <td>423100</td>\n      <td>0.24</td>\n    </tr>\n    <tr>\n      <th>Avengers: Infinity War</th>\n      <td>M</td>\n      <td>112178</td>\n      <td>424325</td>\n      <td>0.26</td>\n    </tr>\n    <tr>\n      <th>A-X-L</th>\n      <td>PG</td>\n      <td>99339</td>\n      <td>423200</td>\n      <td>0.23</td>\n    </tr>\n    <tr>\n      <th>Between Worlds</th>\n      <td>MA15+</td>\n      <td>103208</td>\n      <td>423375</td>\n      <td>0.24</td>\n    </tr>\n    <tr>\n      <th>Black Panther</th>\n      <td>M</td>\n      <td>108831</td>\n      <td>423375</td>\n      <td>0.26</td>\n    </tr>\n    <tr>\n      <th>Bumblebee</th>\n      <td>M</td>\n      <td>106562</td>\n      <td>427950</td>\n      <td>0.25</td>\n    </tr>\n    <tr>\n      <th>Creed II</th>\n      <td>M</td>\n      <td>101628</td>\n      <td>424375</td>\n      <td>0.24</td>\n    </tr>\n    <tr>\n      <th>Deadpool 2</th>\n      <td>MA15+</td>\n      <td>106874</td>\n      <td>422950</td>\n      <td>0.25</td>\n    </tr>\n    <tr>\n      <th>Dragon Ball Super: Origin of the Saiyans</th>\n      <td>M</td>\n      <td>105982</td>\n      <td>423225</td>\n      <td>0.25</td>\n    </tr>\n    <tr>\n      <th>Extinction</th>\n      <td>MA15+</td>\n      <td>107638</td>\n      <td>421975</td>\n      <td>0.26</td>\n    </tr>\n    <tr>\n      <th>Fantastic Beasts: The Crimes of Grindelwald</th>\n      <td>M</td>\n      <td>98950</td>\n      <td>426750</td>\n      <td>0.23</td>\n    </tr>\n    <tr>\n      <th>Hotel Transylvania 3: Summer Vacation</th>\n      <td>PG</td>\n      <td>103477</td>\n      <td>430400</td>\n      <td>0.24</td>\n    </tr>\n    <tr>\n      <th>Maze Runner: The Death Cure</th>\n      <td>M</td>\n      <td>104793</td>\n      <td>422375</td>\n      <td>0.25</td>\n    </tr>\n    <tr>\n      <th>My Hero Academia: Two Heroes</th>\n      <td>M</td>\n      <td>102826</td>\n      <td>432225</td>\n      <td>0.24</td>\n    </tr>\n    <tr>\n      <th>Peter Rabbit</th>\n      <td>PG</td>\n      <td>111164</td>\n      <td>429075</td>\n      <td>0.26</td>\n    </tr>\n    <tr>\n      <th>Ralph Breaks the Internet</th>\n      <td>PG</td>\n      <td>103909</td>\n      <td>425500</td>\n      <td>0.24</td>\n    </tr>\n    <tr>\n      <th>Rampage</th>\n      <td>M</td>\n      <td>102746</td>\n      <td>420575</td>\n      <td>0.24</td>\n    </tr>\n    <tr>\n      <th>Siberia</th>\n      <td>G</td>\n      <td>107617</td>\n      <td>423925</td>\n      <td>0.25</td>\n    </tr>\n    <tr>\n      <th>Sicario: Day of the Soldado</th>\n      <td>MA15+</td>\n      <td>99388</td>\n      <td>427950</td>\n      <td>0.23</td>\n    </tr>\n    <tr>\n      <th>Spider-Man: Into the Spider-Verse</th>\n      <td>PG</td>\n      <td>103838</td>\n      <td>428375</td>\n      <td>0.24</td>\n    </tr>\n    <tr>\n      <th>The Darkest Minds</th>\n      <td>M</td>\n      <td>101663</td>\n      <td>432075</td>\n      <td>0.24</td>\n    </tr>\n    <tr>\n      <th>The Kissing Booth</th>\n      <td>M</td>\n      <td>107512</td>\n      <td>418750</td>\n      <td>0.26</td>\n    </tr>\n    <tr>\n      <th>The Meg</th>\n      <td>M</td>\n      <td>108652</td>\n      <td>422375</td>\n      <td>0.26</td>\n    </tr>\n    <tr>\n      <th>The Predator</th>\n      <td>MA15+</td>\n      <td>104824</td>\n      <td>424350</td>\n      <td>0.25</td>\n    </tr>\n    <tr>\n      <th>Venom</th>\n      <td>M</td>\n      <td>110053</td>\n      <td>424200</td>\n      <td>0.26</td>\n    </tr>\n  </tbody>\n</table>\n</div>"
     },
     "execution_count": 29,
     "metadata": {},
     "output_type": "execute_result"
    }
   ],
   "source": [
    "### ANSWER 1 HERE\n",
    "total_sales['occupancy_rate'] = round(total_sales['tickets_sold'] / total_sales['max_capacity'], 2)\n",
    "total_sales"
   ]
  },
  {
   "cell_type": "code",
   "execution_count": 30,
   "metadata": {},
   "outputs": [
    {
     "data": {
      "text/plain": "classification      PG\noccupancy_rate    0.24\nName: Ralph Breaks the Internet, dtype: object"
     },
     "execution_count": 30,
     "metadata": {},
     "output_type": "execute_result"
    }
   ],
   "source": [
    "### ANSWER 2 HERE\n",
    "total_sales.loc['Ralph Breaks the Internet', ['classification', 'occupancy_rate']]"
   ]
  },
  {
   "cell_type": "code",
   "execution_count": 31,
   "metadata": {},
   "outputs": [
    {
     "data": {
      "text/plain": "           classification  tickets_sold  max_capacity  occupancy_rate\nmovie_name                                                           \nVenom                   M        110053        424200            0.26",
      "text/html": "<div>\n<style scoped>\n    .dataframe tbody tr th:only-of-type {\n        vertical-align: middle;\n    }\n\n    .dataframe tbody tr th {\n        vertical-align: top;\n    }\n\n    .dataframe thead th {\n        text-align: right;\n    }\n</style>\n<table border=\"1\" class=\"dataframe\">\n  <thead>\n    <tr style=\"text-align: right;\">\n      <th></th>\n      <th>classification</th>\n      <th>tickets_sold</th>\n      <th>max_capacity</th>\n      <th>occupancy_rate</th>\n    </tr>\n    <tr>\n      <th>movie_name</th>\n      <th></th>\n      <th></th>\n      <th></th>\n      <th></th>\n    </tr>\n  </thead>\n  <tbody>\n    <tr>\n      <th>Venom</th>\n      <td>M</td>\n      <td>110053</td>\n      <td>424200</td>\n      <td>0.26</td>\n    </tr>\n  </tbody>\n</table>\n</div>"
     },
     "execution_count": 31,
     "metadata": {},
     "output_type": "execute_result"
    }
   ],
   "source": [
    "### ANSWER 3 HERE\n",
    "total_sales.sort_values('occupancy_rate', ascending=False).head(1)"
   ]
  },
  {
   "cell_type": "code",
   "execution_count": 32,
   "metadata": {},
   "outputs": [
    {
     "data": {
      "text/plain": "                                      classification  tickets_sold  \\\nmovie_name                                                           \nAlpha                                             PG        103596   \nAn Interview with God                             PG        104182   \nAnt-Man and the Wasp                              PG        104631   \nA-X-L                                             PG         99339   \nHotel Transylvania 3: Summer Vacation             PG        103477   \nPeter Rabbit                                      PG        111164   \nRalph Breaks the Internet                         PG        103909   \nSpider-Man: Into the Spider-Verse                 PG        103838   \n\n                                       max_capacity  occupancy_rate  \nmovie_name                                                           \nAlpha                                        422525            0.25  \nAn Interview with God                        426575            0.24  \nAnt-Man and the Wasp                         429350            0.24  \nA-X-L                                        423200            0.23  \nHotel Transylvania 3: Summer Vacation        430400            0.24  \nPeter Rabbit                                 429075            0.26  \nRalph Breaks the Internet                    425500            0.24  \nSpider-Man: Into the Spider-Verse            428375            0.24  ",
      "text/html": "<div>\n<style scoped>\n    .dataframe tbody tr th:only-of-type {\n        vertical-align: middle;\n    }\n\n    .dataframe tbody tr th {\n        vertical-align: top;\n    }\n\n    .dataframe thead th {\n        text-align: right;\n    }\n</style>\n<table border=\"1\" class=\"dataframe\">\n  <thead>\n    <tr style=\"text-align: right;\">\n      <th></th>\n      <th>classification</th>\n      <th>tickets_sold</th>\n      <th>max_capacity</th>\n      <th>occupancy_rate</th>\n    </tr>\n    <tr>\n      <th>movie_name</th>\n      <th></th>\n      <th></th>\n      <th></th>\n      <th></th>\n    </tr>\n  </thead>\n  <tbody>\n    <tr>\n      <th>Alpha</th>\n      <td>PG</td>\n      <td>103596</td>\n      <td>422525</td>\n      <td>0.25</td>\n    </tr>\n    <tr>\n      <th>An Interview with God</th>\n      <td>PG</td>\n      <td>104182</td>\n      <td>426575</td>\n      <td>0.24</td>\n    </tr>\n    <tr>\n      <th>Ant-Man and the Wasp</th>\n      <td>PG</td>\n      <td>104631</td>\n      <td>429350</td>\n      <td>0.24</td>\n    </tr>\n    <tr>\n      <th>A-X-L</th>\n      <td>PG</td>\n      <td>99339</td>\n      <td>423200</td>\n      <td>0.23</td>\n    </tr>\n    <tr>\n      <th>Hotel Transylvania 3: Summer Vacation</th>\n      <td>PG</td>\n      <td>103477</td>\n      <td>430400</td>\n      <td>0.24</td>\n    </tr>\n    <tr>\n      <th>Peter Rabbit</th>\n      <td>PG</td>\n      <td>111164</td>\n      <td>429075</td>\n      <td>0.26</td>\n    </tr>\n    <tr>\n      <th>Ralph Breaks the Internet</th>\n      <td>PG</td>\n      <td>103909</td>\n      <td>425500</td>\n      <td>0.24</td>\n    </tr>\n    <tr>\n      <th>Spider-Man: Into the Spider-Verse</th>\n      <td>PG</td>\n      <td>103838</td>\n      <td>428375</td>\n      <td>0.24</td>\n    </tr>\n  </tbody>\n</table>\n</div>"
     },
     "execution_count": 32,
     "metadata": {},
     "output_type": "execute_result"
    }
   ],
   "source": [
    "### ANSWER 4 HERE\n",
    "total_sales[total_sales['classification'] == 'PG']"
   ]
  },
  {
   "cell_type": "markdown",
   "metadata": {},
   "source": [
    "### Advanced: Sort the data over multiple columns\n",
    "To sort values over multiple columns, you can pass through a `list` of columns (in order) to the `by=` argument.\n",
    "\n",
    "Here's an example of sorting by:\n",
    "1. Classification ascending\n",
    "2. Occupancy rate descending\n",
    "3. Tickets sold descending"
   ]
  },
  {
   "cell_type": "code",
   "execution_count": 33,
   "metadata": {},
   "outputs": [
    {
     "data": {
      "text/plain": "                                            classification  tickets_sold  \\\nmovie_name                                                                 \nAnimal World                                             G        108293   \nSiberia                                                  G        107617   \nAvengers: Infinity War                                   M        112178   \nVenom                                                    M        110053   \nBlack Panther                                            M        108831   \nThe Meg                                                  M        108652   \nThe Kissing Booth                                        M        107512   \nBumblebee                                                M        106562   \nDragon Ball Super: Origin of the Saiyans                 M        105982   \nMaze Runner: The Death Cure                              M        104793   \nA Quiet Place                                            M        103813   \nMy Hero Academia: Two Heroes                             M        102826   \nRampage                                                  M        102746   \nAquaman                                                  M        102655   \nThe Darkest Minds                                        M        101663   \nCreed II                                                 M        101628   \nFantastic Beasts: The Crimes of Grindelwald              M         98950   \nExtinction                                           MA15+        107638   \nDeadpool 2                                           MA15+        106874   \nThe Predator                                         MA15+        104824   \nBetween Worlds                                       MA15+        103208   \nSicario: Day of the Soldado                          MA15+         99388   \nPeter Rabbit                                            PG        111164   \nAlpha                                                   PG        103596   \nAnt-Man and the Wasp                                    PG        104631   \nAn Interview with God                                   PG        104182   \nRalph Breaks the Internet                               PG        103909   \nSpider-Man: Into the Spider-Verse                       PG        103838   \nHotel Transylvania 3: Summer Vacation                   PG        103477   \nA-X-L                                                   PG         99339   \n\n                                             occupancy_rate  \nmovie_name                                                   \nAnimal World                                           0.25  \nSiberia                                                0.25  \nAvengers: Infinity War                                 0.26  \nVenom                                                  0.26  \nBlack Panther                                          0.26  \nThe Meg                                                0.26  \nThe Kissing Booth                                      0.26  \nBumblebee                                              0.25  \nDragon Ball Super: Origin of the Saiyans               0.25  \nMaze Runner: The Death Cure                            0.25  \nA Quiet Place                                          0.24  \nMy Hero Academia: Two Heroes                           0.24  \nRampage                                                0.24  \nAquaman                                                0.24  \nThe Darkest Minds                                      0.24  \nCreed II                                               0.24  \nFantastic Beasts: The Crimes of Grindelwald            0.23  \nExtinction                                             0.26  \nDeadpool 2                                             0.25  \nThe Predator                                           0.25  \nBetween Worlds                                         0.24  \nSicario: Day of the Soldado                            0.23  \nPeter Rabbit                                           0.26  \nAlpha                                                  0.25  \nAnt-Man and the Wasp                                   0.24  \nAn Interview with God                                  0.24  \nRalph Breaks the Internet                              0.24  \nSpider-Man: Into the Spider-Verse                      0.24  \nHotel Transylvania 3: Summer Vacation                  0.24  \nA-X-L                                                  0.23  ",
      "text/html": "<div>\n<style scoped>\n    .dataframe tbody tr th:only-of-type {\n        vertical-align: middle;\n    }\n\n    .dataframe tbody tr th {\n        vertical-align: top;\n    }\n\n    .dataframe thead th {\n        text-align: right;\n    }\n</style>\n<table border=\"1\" class=\"dataframe\">\n  <thead>\n    <tr style=\"text-align: right;\">\n      <th></th>\n      <th>classification</th>\n      <th>tickets_sold</th>\n      <th>occupancy_rate</th>\n    </tr>\n    <tr>\n      <th>movie_name</th>\n      <th></th>\n      <th></th>\n      <th></th>\n    </tr>\n  </thead>\n  <tbody>\n    <tr>\n      <th>Animal World</th>\n      <td>G</td>\n      <td>108293</td>\n      <td>0.25</td>\n    </tr>\n    <tr>\n      <th>Siberia</th>\n      <td>G</td>\n      <td>107617</td>\n      <td>0.25</td>\n    </tr>\n    <tr>\n      <th>Avengers: Infinity War</th>\n      <td>M</td>\n      <td>112178</td>\n      <td>0.26</td>\n    </tr>\n    <tr>\n      <th>Venom</th>\n      <td>M</td>\n      <td>110053</td>\n      <td>0.26</td>\n    </tr>\n    <tr>\n      <th>Black Panther</th>\n      <td>M</td>\n      <td>108831</td>\n      <td>0.26</td>\n    </tr>\n    <tr>\n      <th>The Meg</th>\n      <td>M</td>\n      <td>108652</td>\n      <td>0.26</td>\n    </tr>\n    <tr>\n      <th>The Kissing Booth</th>\n      <td>M</td>\n      <td>107512</td>\n      <td>0.26</td>\n    </tr>\n    <tr>\n      <th>Bumblebee</th>\n      <td>M</td>\n      <td>106562</td>\n      <td>0.25</td>\n    </tr>\n    <tr>\n      <th>Dragon Ball Super: Origin of the Saiyans</th>\n      <td>M</td>\n      <td>105982</td>\n      <td>0.25</td>\n    </tr>\n    <tr>\n      <th>Maze Runner: The Death Cure</th>\n      <td>M</td>\n      <td>104793</td>\n      <td>0.25</td>\n    </tr>\n    <tr>\n      <th>A Quiet Place</th>\n      <td>M</td>\n      <td>103813</td>\n      <td>0.24</td>\n    </tr>\n    <tr>\n      <th>My Hero Academia: Two Heroes</th>\n      <td>M</td>\n      <td>102826</td>\n      <td>0.24</td>\n    </tr>\n    <tr>\n      <th>Rampage</th>\n      <td>M</td>\n      <td>102746</td>\n      <td>0.24</td>\n    </tr>\n    <tr>\n      <th>Aquaman</th>\n      <td>M</td>\n      <td>102655</td>\n      <td>0.24</td>\n    </tr>\n    <tr>\n      <th>The Darkest Minds</th>\n      <td>M</td>\n      <td>101663</td>\n      <td>0.24</td>\n    </tr>\n    <tr>\n      <th>Creed II</th>\n      <td>M</td>\n      <td>101628</td>\n      <td>0.24</td>\n    </tr>\n    <tr>\n      <th>Fantastic Beasts: The Crimes of Grindelwald</th>\n      <td>M</td>\n      <td>98950</td>\n      <td>0.23</td>\n    </tr>\n    <tr>\n      <th>Extinction</th>\n      <td>MA15+</td>\n      <td>107638</td>\n      <td>0.26</td>\n    </tr>\n    <tr>\n      <th>Deadpool 2</th>\n      <td>MA15+</td>\n      <td>106874</td>\n      <td>0.25</td>\n    </tr>\n    <tr>\n      <th>The Predator</th>\n      <td>MA15+</td>\n      <td>104824</td>\n      <td>0.25</td>\n    </tr>\n    <tr>\n      <th>Between Worlds</th>\n      <td>MA15+</td>\n      <td>103208</td>\n      <td>0.24</td>\n    </tr>\n    <tr>\n      <th>Sicario: Day of the Soldado</th>\n      <td>MA15+</td>\n      <td>99388</td>\n      <td>0.23</td>\n    </tr>\n    <tr>\n      <th>Peter Rabbit</th>\n      <td>PG</td>\n      <td>111164</td>\n      <td>0.26</td>\n    </tr>\n    <tr>\n      <th>Alpha</th>\n      <td>PG</td>\n      <td>103596</td>\n      <td>0.25</td>\n    </tr>\n    <tr>\n      <th>Ant-Man and the Wasp</th>\n      <td>PG</td>\n      <td>104631</td>\n      <td>0.24</td>\n    </tr>\n    <tr>\n      <th>An Interview with God</th>\n      <td>PG</td>\n      <td>104182</td>\n      <td>0.24</td>\n    </tr>\n    <tr>\n      <th>Ralph Breaks the Internet</th>\n      <td>PG</td>\n      <td>103909</td>\n      <td>0.24</td>\n    </tr>\n    <tr>\n      <th>Spider-Man: Into the Spider-Verse</th>\n      <td>PG</td>\n      <td>103838</td>\n      <td>0.24</td>\n    </tr>\n    <tr>\n      <th>Hotel Transylvania 3: Summer Vacation</th>\n      <td>PG</td>\n      <td>103477</td>\n      <td>0.24</td>\n    </tr>\n    <tr>\n      <th>A-X-L</th>\n      <td>PG</td>\n      <td>99339</td>\n      <td>0.23</td>\n    </tr>\n  </tbody>\n</table>\n</div>"
     },
     "execution_count": 33,
     "metadata": {},
     "output_type": "execute_result"
    }
   ],
   "source": [
    "total_sales.sort_values(['classification', 'occupancy_rate', 'tickets_sold'],\n",
    "                       ascending=[True, False, False]).drop(['max_capacity'], axis='columns')"
   ]
  },
  {
   "cell_type": "markdown",
   "metadata": {},
   "source": [
    "## <u>Concept: Group by</u>\n",
    "The `groupby` method lets you separate the data into different groups based off shared characteristics (akin to `itertools.groupby`). For example, we could group countries by region or income range, then analyse those groups individually.  \n",
    "\n",
    "The official documentation on groupby can be found [here](https://pandas.pydata.org/pandas-docs/stable/user_guide/groupby.html). [This tutorial](https://www.marsja.se/python-pandas-groupby-tutorial-examples/) is also well worth reading.\n",
    "\n",
    "\n",
    "Here's an example of finding the total number of tickets sold for each classification."
   ]
  },
  {
   "cell_type": "code",
   "execution_count": 34,
   "metadata": {},
   "outputs": [
    {
     "data": {
      "text/plain": "classification\nG         215910\nM        1578844\nMA15+     521932\nPG        834136\nName: tickets_sold, dtype: int64"
     },
     "execution_count": 34,
     "metadata": {},
     "output_type": "execute_result"
    }
   ],
   "source": [
    "total_sales.groupby('classification')['tickets_sold'].sum()"
   ]
  },
  {
   "cell_type": "markdown",
   "metadata": {},
   "source": [
    "<blockquote style=\"padding: 10px; background-color: #FFD392;\">\n",
    "\n",
    "## Exercise\n",
    "1. How many movies are there in each classification category? Think of key search terms such as \"size\" or \"count\".\n",
    "\n",
    "2. Then, for each category, what is the `mean` number of tickets sold?"
   ]
  },
  {
   "cell_type": "code",
   "execution_count": 35,
   "metadata": {},
   "outputs": [
    {
     "data": {
      "text/plain": "classification\nG         2\nM        15\nMA15+     5\nPG        8\ndtype: int64"
     },
     "execution_count": 35,
     "metadata": {},
     "output_type": "execute_result"
    }
   ],
   "source": [
    "### ANSWER 1 HERE\n",
    "total_sales.groupby('classification').size()"
   ]
  },
  {
   "cell_type": "code",
   "execution_count": 36,
   "metadata": {},
   "outputs": [
    {
     "data": {
      "text/plain": "                 tickets_sold   max_capacity  occupancy_rate\nclassification                                              \nG               107955.000000  425612.500000          0.2500\nM               105256.266667  424893.333333          0.2480\nMA15+           104386.400000  424120.000000          0.2460\nPG              104267.000000  426875.000000          0.2425",
      "text/html": "<div>\n<style scoped>\n    .dataframe tbody tr th:only-of-type {\n        vertical-align: middle;\n    }\n\n    .dataframe tbody tr th {\n        vertical-align: top;\n    }\n\n    .dataframe thead th {\n        text-align: right;\n    }\n</style>\n<table border=\"1\" class=\"dataframe\">\n  <thead>\n    <tr style=\"text-align: right;\">\n      <th></th>\n      <th>tickets_sold</th>\n      <th>max_capacity</th>\n      <th>occupancy_rate</th>\n    </tr>\n    <tr>\n      <th>classification</th>\n      <th></th>\n      <th></th>\n      <th></th>\n    </tr>\n  </thead>\n  <tbody>\n    <tr>\n      <th>G</th>\n      <td>107955.000000</td>\n      <td>425612.500000</td>\n      <td>0.2500</td>\n    </tr>\n    <tr>\n      <th>M</th>\n      <td>105256.266667</td>\n      <td>424893.333333</td>\n      <td>0.2480</td>\n    </tr>\n    <tr>\n      <th>MA15+</th>\n      <td>104386.400000</td>\n      <td>424120.000000</td>\n      <td>0.2460</td>\n    </tr>\n    <tr>\n      <th>PG</th>\n      <td>104267.000000</td>\n      <td>426875.000000</td>\n      <td>0.2425</td>\n    </tr>\n  </tbody>\n</table>\n</div>"
     },
     "execution_count": 36,
     "metadata": {},
     "output_type": "execute_result"
    }
   ],
   "source": [
    "### ANSWER 2 HERE\n",
    "total_sales.groupby('classification').mean()"
   ]
  },
  {
   "cell_type": "markdown",
   "metadata": {},
   "source": [
    "Finally, an advanced use case of groupby. Here, we are:\n",
    "- Getting the max capacity possible for the classification;\n",
    "- the average number of tickets sold for the classification;\n",
    "- and the average occupancy rate.\n",
    "\n",
    "The syntax for this is a dictionary using the `.agg()` method where the:\n",
    "- `key` corresponds to the column\n",
    "- `value` corresponds to the type of aggregation\n",
    "\n",
    "View more here: https://pandas.pydata.org/pandas-docs/stable/reference/api/pandas.DataFrame.agg.html"
   ]
  },
  {
   "cell_type": "code",
   "execution_count": 37,
   "metadata": {},
   "outputs": [
    {
     "data": {
      "text/plain": "                max_capacity   tickets_sold  occupancy_rate\nclassification                                             \nG                     427300  107955.000000          0.2500\nM                     432225  105256.266667          0.2480\nMA15+                 427950  104386.400000          0.2460\nPG                    430400  104267.000000          0.2425",
      "text/html": "<div>\n<style scoped>\n    .dataframe tbody tr th:only-of-type {\n        vertical-align: middle;\n    }\n\n    .dataframe tbody tr th {\n        vertical-align: top;\n    }\n\n    .dataframe thead th {\n        text-align: right;\n    }\n</style>\n<table border=\"1\" class=\"dataframe\">\n  <thead>\n    <tr style=\"text-align: right;\">\n      <th></th>\n      <th>max_capacity</th>\n      <th>tickets_sold</th>\n      <th>occupancy_rate</th>\n    </tr>\n    <tr>\n      <th>classification</th>\n      <th></th>\n      <th></th>\n      <th></th>\n    </tr>\n  </thead>\n  <tbody>\n    <tr>\n      <th>G</th>\n      <td>427300</td>\n      <td>107955.000000</td>\n      <td>0.2500</td>\n    </tr>\n    <tr>\n      <th>M</th>\n      <td>432225</td>\n      <td>105256.266667</td>\n      <td>0.2480</td>\n    </tr>\n    <tr>\n      <th>MA15+</th>\n      <td>427950</td>\n      <td>104386.400000</td>\n      <td>0.2460</td>\n    </tr>\n    <tr>\n      <th>PG</th>\n      <td>430400</td>\n      <td>104267.000000</td>\n      <td>0.2425</td>\n    </tr>\n  </tbody>\n</table>\n</div>"
     },
     "execution_count": 37,
     "metadata": {},
     "output_type": "execute_result"
    }
   ],
   "source": [
    "total_sales.groupby('classification').agg({'max_capacity': 'max', 'tickets_sold': 'mean', 'occupancy_rate': 'mean'})"
   ]
  },
  {
   "cell_type": "markdown",
   "metadata": {},
   "source": [
    "# Challenge questions\n",
    "\n",
    "We don't give the answers to these questions, but we encourage students to discuss among themselves using the Ed forum. Some questions require use of functions or methods not covered in this tutorial, and some questions are open-ended (no fixed answer, depending on their arguments). We have provided this to give students a chance to get used to searching up the documentation."
   ]
  },
  {
   "cell_type": "markdown",
   "metadata": {},
   "source": [
    "1. Suppose that the average purchase price per ticket is `$22.00`, what's the average dollar sales for `MA15+` movies? Compared this to the median dollar sales for `M`-rated movies.\n",
    "\n",
    "2. How many movies have a title that begins with `\"T\"`? \n",
    "\n",
    "3. Which movies tend to have better occupancy rate: low sales with low capacity, or high sales with high capacity?\n",
    "\n",
    "4. How many movies have a below-average occupancy rate in each classification category?"
   ]
  }
 ],
 "metadata": {
  "kernelspec": {
   "display_name": "Python 3 (ipykernel)",
   "language": "python",
   "name": "python3"
  },
  "language_info": {
   "codemirror_mode": {
    "name": "ipython",
    "version": 3
   },
   "file_extension": ".py",
   "mimetype": "text/x-python",
   "name": "python",
   "nbconvert_exporter": "python",
   "pygments_lexer": "ipython3",
   "version": "3.9.13"
  }
 },
 "nbformat": 4,
 "nbformat_minor": 4
}
